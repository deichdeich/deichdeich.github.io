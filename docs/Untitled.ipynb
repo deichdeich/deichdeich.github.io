{
 "cells": [
  {
   "cell_type": "markdown",
   "metadata": {},
   "source": [
    "# Introduction to Efficient Scientific Computing with Python\n",
    "## *Or:  Just let NumPy handle it*\n",
    "### Alex Deich\n",
    "### adeich2@illinois.edu"
   ]
  },
  {
   "cell_type": "code",
   "execution_count": 105,
   "metadata": {},
   "outputs": [],
   "source": [
    "# problem 1:\n",
    "# A star is falling into a black hole.\n",
    "# Write a program which calculates how\n",
    "# the star's spectrum changes as it falls.\n",
    "import numpy as np"
   ]
  },
  {
   "cell_type": "code",
   "execution_count": 106,
   "metadata": {},
   "outputs": [],
   "source": [
    "def redshift(lambda_e, R_e):\n",
    "    \"\"\" this function returns the wavelength by measured by an observer at infinity.\n",
    "    Inputs:\n",
    "    lambda_e: the wavelength in the rest frame of the emitter\n",
    "    R_e: the distance from the emitter to the black hole, in units of R_s\n",
    "    \"\"\"\n",
    "    gamma = np.sqrt(1 - (1 / R_e))\n",
    "    return(lambda_e / gamma)"
   ]
  },
  {
   "cell_type": "code",
   "execution_count": 107,
   "metadata": {},
   "outputs": [],
   "source": [
    "def falling_star(start_lambda,\n",
    "                 end_lambda,\n",
    "                 dlambda,\n",
    "                 start_rad,\n",
    "                 end_rad,\n",
    "                 dr):\n",
    "    spectral_history = []\n",
    "    \n",
    "    N_rad = int(np.abs((end_rad - start_rad) / dr))\n",
    "    N_lambda = int(np.abs((end_lambda - start_lambda) / dlambda))\n",
    "    radius = start_rad\n",
    "    \n",
    "    for r in range(N_rad):  \n",
    "        spectrum = []\n",
    "        lambda_r = start_lambda\n",
    "        \n",
    "        for l in range(N_lambda):\n",
    "            spectrum.append(redshift(lambda_r, radius))\n",
    "            lambda_r += dlambda\n",
    "            \n",
    "        spectral_history.append(spectrum)\n",
    "        radius += dr\n",
    "        \n",
    "    return(spectral_history)"
   ]
  },
  {
   "cell_type": "code",
   "execution_count": 125,
   "metadata": {},
   "outputs": [],
   "source": [
    "spectra = falling_star(start_lambda = 0.25,\n",
    "                        end_lambda = 3,\n",
    "                        dlambda = 0.01,\n",
    "                        start_rad = 2,\n",
    "                        end_rad = 10,\n",
    "                        dr = 0.01)"
   ]
  },
  {
   "cell_type": "code",
   "execution_count": 130,
   "metadata": {},
   "outputs": [
    {
     "data": {
      "text/plain": [
       "Text(0, 0.5, '$\\\\lambda_{\\\\infty}$')"
      ]
     },
     "execution_count": 130,
     "metadata": {},
     "output_type": "execute_result"
    },
    {
     "data": {
      "image/png": "[encoded data removed]",
      "text/plain": [
       "<Figure size 720x720 with 2 Axes>"
      ]
     },
     "metadata": {
      "needs_background": "light"
     },
     "output_type": "display_data"
    }
   ],
   "source": [
    "fig = plt.figure(figsize=(10,10))\n",
    "plt.imshow(spectra, extent = (0.25,3,10,2))\n",
    "plt.xlabel(r'$\\lambda_e$', size=20)\n",
    "plt.ylabel(r'Radius ($R_s$)', size=20)\n",
    "cbar = plt.colorbar()\n",
    "cbar.ax.set_ylabel(r'$\\lambda_{\\infty}$', size=20)"
   ]
  },
  {
   "cell_type": "code",
   "execution_count": 109,
   "metadata": {},
   "outputs": [
    {
     "name": "stdout",
     "output_type": "stream",
     "text": [
      "268 ms ± 11.7 ms per loop (mean ± std. dev. of 7 runs, 1 loop each)\n"
     ]
    }
   ],
   "source": [
    "%timeit falling_star(start_lambda = 0.25, end_lambda = 3, dlambda = 0.01, start_rad = 10, end_rad = 2, dr = 0.01)"
   ]
  },
  {
   "cell_type": "code",
   "execution_count": 110,
   "metadata": {},
   "outputs": [
    {
     "name": "stdout",
     "output_type": "stream",
     "text": [
      "6.31 ms ± 174 µs per loop (mean ± std. dev. of 7 runs, 100 loops each)\n"
     ]
    }
   ],
   "source": [
    "import os\n",
    "%timeit os.system('./falling_star.o 0.25 3 0.01 10 2 0.01')"
   ]
  },
  {
   "cell_type": "markdown",
   "metadata": {},
   "source": [
    "# Numpy Arrays"
   ]
  },
  {
   "cell_type": "code",
   "execution_count": 8,
   "metadata": {},
   "outputs": [
    {
     "name": "stdout",
     "output_type": "stream",
     "text": [
      "[5, 'blah']\n"
     ]
    }
   ],
   "source": [
    "my_list = []\n",
    "my_list.append(5)\n",
    "my_list.append(\"blah\")\n",
    "print(my_list)"
   ]
  },
  {
   "cell_type": "code",
   "execution_count": 9,
   "metadata": {},
   "outputs": [],
   "source": [
    "arr1 = np.arange(0, 3, 0.04)"
   ]
  },
  {
   "cell_type": "code",
   "execution_count": 10,
   "metadata": {},
   "outputs": [
    {
     "data": {
      "text/plain": [
       "array([0.  , 0.04, 0.08, 0.12, 0.16, 0.2 , 0.24, 0.28, 0.32, 0.36, 0.4 ,\n",
       "       0.44, 0.48, 0.52, 0.56, 0.6 , 0.64, 0.68, 0.72, 0.76, 0.8 , 0.84,\n",
       "       0.88, 0.92, 0.96, 1.  , 1.04, 1.08, 1.12, 1.16, 1.2 , 1.24, 1.28,\n",
       "       1.32, 1.36, 1.4 , 1.44, 1.48, 1.52, 1.56, 1.6 , 1.64, 1.68, 1.72,\n",
       "       1.76, 1.8 , 1.84, 1.88, 1.92, 1.96, 2.  , 2.04, 2.08, 2.12, 2.16,\n",
       "       2.2 , 2.24, 2.28, 2.32, 2.36, 2.4 , 2.44, 2.48, 2.52, 2.56, 2.6 ,\n",
       "       2.64, 2.68, 2.72, 2.76, 2.8 , 2.84, 2.88, 2.92, 2.96])"
      ]
     },
     "execution_count": 10,
     "metadata": {},
     "output_type": "execute_result"
    }
   ],
   "source": [
    "arr1"
   ]
  },
  {
   "cell_type": "code",
   "execution_count": 11,
   "metadata": {},
   "outputs": [],
   "source": [
    "arr2 = np.arange(2, 5, 0.04)"
   ]
  },
  {
   "cell_type": "code",
   "execution_count": 12,
   "metadata": {},
   "outputs": [],
   "source": [
    "zeros = np.zeros((2, 10))"
   ]
  },
  {
   "cell_type": "code",
   "execution_count": 13,
   "metadata": {},
   "outputs": [
    {
     "data": {
      "text/plain": [
       "array([[0., 0., 0., 0., 0., 0., 0., 0., 0., 0.],\n",
       "       [0., 0., 0., 0., 0., 0., 0., 0., 0., 0.]])"
      ]
     },
     "execution_count": 13,
     "metadata": {},
     "output_type": "execute_result"
    }
   ],
   "source": [
    "zeros"
   ]
  },
  {
   "cell_type": "code",
   "execution_count": 134,
   "metadata": {},
   "outputs": [],
   "source": [
    "def falling_star(start_lambda,\n",
    "                 end_lambda,\n",
    "                 dlambda,\n",
    "                 start_rad,\n",
    "                 end_rad,\n",
    "                 dr):\n",
    "    \n",
    "    rads = np.arange(start_rad, end_rad, dr)\n",
    "    lams = np.arange(start_lambda, end_lambda, dlambda)\n",
    "    N_rad = len(rads)\n",
    "    N_lams = len(lams)\n",
    "    \n",
    "    spectral_history = np.zeros((N_rad, N_lams))\n",
    "    for i in range(N_rad):\n",
    "        radius = rads[i]\n",
    "        spectral_history[i] = redshift(lams, radius)\n",
    "        \n",
    "    return(spectral_history)"
   ]
  },
  {
   "cell_type": "code",
   "execution_count": 15,
   "metadata": {},
   "outputs": [
    {
     "name": "stdout",
     "output_type": "stream",
     "text": [
      "3.91 ms ± 223 µs per loop (mean ± std. dev. of 7 runs, 100 loops each)\n"
     ]
    }
   ],
   "source": [
    "%timeit falling_star(start_lambda = 0.25, end_lambda = 3, dlambda = 0.01, start_rad = 2, end_rad = 10, dr = 0.01)"
   ]
  },
  {
   "cell_type": "code",
   "execution_count": 135,
   "metadata": {},
   "outputs": [],
   "source": [
    "x = falling_star(start_lambda = 0.25, end_lambda = 3, dlambda = 0.01, start_rad = 2, end_rad = 10, dr = 0.01)"
   ]
  },
  {
   "cell_type": "code",
   "execution_count": 138,
   "metadata": {},
   "outputs": [
    {
     "data": {
      "text/plain": [
       "Text(0, 0.5, '$\\\\lambda_{\\\\infty}$')"
      ]
     },
     "execution_count": 138,
     "metadata": {},
     "output_type": "execute_result"
    },
    {
     "data": {
      "image/png": "[encoded data removed]",
      "text/plain": [
       "<Figure size 720x720 with 2 Axes>"
      ]
     },
     "metadata": {
      "needs_background": "light"
     },
     "output_type": "display_data"
    }
   ],
   "source": [
    "fig = plt.figure(figsize=(10,10))\n",
    "plt.imshow(x, extent = (0.25,3,2,10))\n",
    "plt.xlabel(r'$\\lambda_e$', size=20)\n",
    "plt.ylabel(r'Radius ($R_s$)', size=20)\n",
    "cbar = plt.colorbar()\n",
    "cbar.ax.set_ylabel(r'$\\lambda_{\\infty}$', size=20)"
   ]
  },
  {
   "cell_type": "markdown",
   "metadata": {},
   "source": [
    "## Taking a derivative"
   ]
  },
  {
   "cell_type": "code",
   "execution_count": 139,
   "metadata": {},
   "outputs": [
    {
     "data": {
      "text/plain": [
       "[<matplotlib.lines.Line2D at 0x12f940250>]"
      ]
     },
     "execution_count": 139,
     "metadata": {},
     "output_type": "execute_result"
    },
    {
     "data": {
      "image/png": "[encoded data removed]",
      "text/plain": [
       "<Figure size 432x288 with 1 Axes>"
      ]
     },
     "metadata": {
      "needs_background": "light"
     },
     "output_type": "display_data"
    }
   ],
   "source": [
    "x = np.linspace(0, 2 * np.pi, 1000)\n",
    "data = np.sin(x)\n",
    "plt.plot(x, data)"
   ]
  },
  {
   "cell_type": "code",
   "execution_count": 142,
   "metadata": {},
   "outputs": [
    {
     "data": {
      "text/plain": [
       "[<matplotlib.lines.Line2D at 0x127f84a90>]"
      ]
     },
     "execution_count": 142,
     "metadata": {},
     "output_type": "execute_result"
    },
    {
     "data": {
      "image/png": "[encoded data removed]",
      "text/plain": [
       "<Figure size 432x288 with 1 Axes>"
      ]
     },
     "metadata": {
      "needs_background": "light"
     },
     "output_type": "display_data"
    }
   ],
   "source": [
    "dx = np.diff(x)\n",
    "d_data = np.diff(data) / dx\n",
    "plt.plot(data)\n",
    "plt.plot(d_data)"
   ]
  },
  {
   "cell_type": "markdown",
   "metadata": {},
   "source": [
    "## Putting data in NumPy arrays"
   ]
  },
  {
   "cell_type": "code",
   "execution_count": 20,
   "metadata": {},
   "outputs": [
    {
     "name": "stdout",
     "output_type": "stream",
     "text": [
      "[0, 5]\n"
     ]
    }
   ],
   "source": [
    "pylist = [0]\n",
    "pylist.append(5)\n",
    "print(pylist)"
   ]
  },
  {
   "cell_type": "code",
   "execution_count": 21,
   "metadata": {},
   "outputs": [
    {
     "name": "stdout",
     "output_type": "stream",
     "text": [
      "[0. 5.]\n"
     ]
    }
   ],
   "source": [
    "nparr = np.array([0.])\n",
    "nparr = np.append(nparr, 5)\n",
    "print(nparr)"
   ]
  },
  {
   "cell_type": "code",
   "execution_count": 22,
   "metadata": {},
   "outputs": [
    {
     "name": "stdout",
     "output_type": "stream",
     "text": [
      "[0. 5.]\n"
     ]
    }
   ],
   "source": [
    "nparr = np.zeros(2)\n",
    "nparr[1] = 5\n",
    "print(nparr)"
   ]
  },
  {
   "cell_type": "code",
   "execution_count": 159,
   "metadata": {},
   "outputs": [],
   "source": [
    "def pylist_append(N_append):\n",
    "    pylist = []\n",
    "    for i in range(N_append):\n",
    "        pylist.append(i * i)\n",
    "    return(pylist)\n",
    "\n",
    "def np_append(N_append):\n",
    "    nparr = np.array([])\n",
    "    for i in range(N_append):\n",
    "        np.append(nparr, i * i)\n",
    "    return(nparr)\n",
    "\n",
    "def np_vector(N_append):\n",
    "    data = np.arange(N_append)\n",
    "    return(data * data)"
   ]
  },
  {
   "cell_type": "code",
   "execution_count": 144,
   "metadata": {},
   "outputs": [
    {
     "name": "stdout",
     "output_type": "stream",
     "text": [
      "118 ms ± 3.1 ms per loop (mean ± std. dev. of 7 runs, 10 loops each)\n"
     ]
    }
   ],
   "source": [
    "%timeit pylist_append(1000000)"
   ]
  },
  {
   "cell_type": "code",
   "execution_count": 145,
   "metadata": {},
   "outputs": [
    {
     "name": "stdout",
     "output_type": "stream",
     "text": [
      "4.98 s ± 251 ms per loop (mean ± std. dev. of 7 runs, 1 loop each)\n"
     ]
    }
   ],
   "source": [
    "%timeit np_append(1000000)"
   ]
  },
  {
   "cell_type": "code",
   "execution_count": 146,
   "metadata": {},
   "outputs": [
    {
     "name": "stdout",
     "output_type": "stream",
     "text": [
      "2.55 ms ± 310 µs per loop (mean ± std. dev. of 7 runs, 100 loops each)\n"
     ]
    }
   ],
   "source": [
    "%timeit np_insert(1000000)"
   ]
  },
  {
   "cell_type": "code",
   "execution_count": 176,
   "metadata": {},
   "outputs": [
    {
     "data": {
      "text/plain": [
       "()"
      ]
     },
     "execution_count": 176,
     "metadata": {},
     "output_type": "execute_result"
    },
    {
     "data": {
      "image/png": "[encoded data removed]",
      "text/plain": [
       "<Figure size 432x288 with 1 Axes>"
      ]
     },
     "metadata": {
      "needs_background": "light"
     },
     "output_type": "display_data"
    }
   ],
   "source": [
    "import time\n",
    "\n",
    "def running_avg(arr, step):\n",
    "    Nsteps = int(len(arr) / step)\n",
    "    i = 0\n",
    "    retarr = np.zeros_like(arr)\n",
    "    for i in range(len(arr)):\n",
    "        retarr[i] = np.mean(arr[i:int((i+step)%len(arr))])\n",
    "    return(retarr)\n",
    "\n",
    "def compare_funcs(funcs, arg_range):\n",
    "    for func in funcs:\n",
    "        times = []\n",
    "        for arg in arg_range:\n",
    "            t0 = time.time()\n",
    "            func(int(arg))\n",
    "            times.append(time.time() - t0)\n",
    "        times = np.array(times)\n",
    "        \n",
    "        plt.loglog(arg_range, times, label = func.__name__)\n",
    "    \n",
    "    plt.legend()\n",
    "    return()\n",
    "\n",
    "compare_funcs([pylist_append, np_vector, np_append], 10**(np.linspace(1,6,10)))"
   ]
  },
  {
   "cell_type": "markdown",
   "metadata": {},
   "source": [
    "## Array indexing"
   ]
  },
  {
   "cell_type": "code",
   "execution_count": 28,
   "metadata": {},
   "outputs": [
    {
     "data": {
      "text/plain": [
       "5"
      ]
     },
     "execution_count": 28,
     "metadata": {},
     "output_type": "execute_result"
    }
   ],
   "source": [
    "arr = np.arange(0,100)\n",
    "arr[5]"
   ]
  },
  {
   "cell_type": "code",
   "execution_count": 29,
   "metadata": {},
   "outputs": [
    {
     "data": {
      "text/plain": [
       "array([95, 93, 91, 89, 87, 85, 83, 81, 79, 77, 75, 73, 71, 69, 67])"
      ]
     },
     "execution_count": 29,
     "metadata": {},
     "output_type": "execute_result"
    }
   ],
   "source": [
    "arr[-5:-34:-2]"
   ]
  },
  {
   "cell_type": "code",
   "execution_count": 30,
   "metadata": {},
   "outputs": [],
   "source": [
    "bigdata = np.random.random(size=(int(1e9)))"
   ]
  },
  {
   "cell_type": "code",
   "execution_count": 31,
   "metadata": {},
   "outputs": [
    {
     "data": {
      "text/plain": [
       "0.4995630438904291"
      ]
     },
     "execution_count": 31,
     "metadata": {},
     "output_type": "execute_result"
    }
   ],
   "source": [
    "np.mean(bigdata[::1000])"
   ]
  },
  {
   "cell_type": "markdown",
   "metadata": {},
   "source": [
    "# Practice problems"
   ]
  },
  {
   "cell_type": "markdown",
   "metadata": {},
   "source": [
    "*None of these requires a Python `for` loop*\n",
    "\n",
    "1) Using only the functions `np.diff`, `np.abs`, and `np.where`*, take the second derivarive of the function\n",
    "$f(x) = e^{-(x-2)^2} + \\sqrt{x+1/2}$ on the domain $x \\in [0, 5]$, find the extremal points, and characterize them as either minima or maxima (there are no saddle points for this function).\n",
    "\n",
    "*`np.abs` takes the absolute value, and `np.where` returns the locations of values in an array matching a condition.  Read the [documentaion](https://numpy.org/doc/stable/reference/generated/numpy.where.html) for more.\n",
    "\n",
    "2) Read the [documentation on the function `np.meshgrid`](https://numpy.org/doc/stable/reference/generated/numpy.meshgrid.html) and use it to remove the remaining Python `for` loop in the function `falling_star`.\n",
    "\n",
    "3) Make a gigantic dataset of at least $10^9$ data points composed of a right-side-up Gaussian and an upside-down Gaussian, centered at $x=2$ and $x=6$, respectively (so the functional form would be $f(x) = e^{-(x-2)^2} - e^{-(x-6)^2}$).  Do the following:\n",
    "\n",
    " > a) Plot it.  You'll need to reduce the size with array slicing in order to make matplotlib plot it in a reasonable amount of time.\n",
    " >\n",
    " > b) Using only the function `np.mean`, find the average values for the whole dataset, then just the first half, and then  just the second half."
   ]
  },
  {
   "cell_type": "markdown",
   "metadata": {},
   "source": [
    "## Practice problem solutions\n",
    "### Problem 1"
   ]
  },
  {
   "cell_type": "code",
   "execution_count": 118,
   "metadata": {},
   "outputs": [
    {
     "name": "stdout",
     "output_type": "stream",
     "text": [
      "Extremal points occur at: [2.15719716 2.15720216 3.6007136  3.6007186  3.6007236  3.6007286\n",
      " 3.6007336  3.6007386  3.6007436 ]\n"
     ]
    }
   ],
   "source": [
    "# first, get some data\n",
    "x = np.linspace(0, 5, 1000000)\n",
    "data = np.exp(-(x - 2)**2) + np.sqrt(x+0.5)\n",
    "\n",
    "# take the derivative\n",
    "dx = np.mean(np.diff(x))\n",
    "ddata = np.diff(data) / dx\n",
    "\n",
    "# the flat spots in the function correspond to the zeros of the derivative,\n",
    "# so we want the x-values corresponding to very small values of `ddata`\n",
    "min_ddata = np.where(np.abs(ddata) < 0.00001)\n",
    "\n",
    "# This will return *all* points which match the above condition,\n",
    "# so we'll see two groups which cluster around the minima, and determine them by eye.\n",
    "# In practice, there are yet more NumPy functions available which can automatically\n",
    "# identify these clusters pretty easily (have a look at np.histogram for example),\n",
    "# but I wanted to keep this simple.\n",
    "\n",
    "print(\"Extremal points occur at:\", x[min_ddata])"
   ]
  },
  {
   "cell_type": "code",
   "execution_count": 119,
   "metadata": {},
   "outputs": [
    {
     "data": {
      "text/plain": [
       "array([-1.91245748, -1.91245748,  0.6061628 ,  0.6061095 ,  0.60612727,\n",
       "        0.60612727,  0.60607398,  0.60612727,  0.60612727])"
      ]
     },
     "execution_count": 119,
     "metadata": {},
     "output_type": "execute_result"
    }
   ],
   "source": [
    "# So, pretty clearly, there are two minima: one at around 2.1571 and one at 3.6006.\n",
    "\n",
    "# now find the second derivative\n",
    "dddata = np.diff(ddata) / dx\n",
    "\n",
    "# and look at the values of the second derivative at the identified zeros\n",
    "dddata[min_ddata]"
   ]
  },
  {
   "cell_type": "code",
   "execution_count": 120,
   "metadata": {},
   "outputs": [
    {
     "data": {
      "text/plain": [
       "Text(0.5, 1.0, 'Nice.')"
      ]
     },
     "execution_count": 120,
     "metadata": {},
     "output_type": "execute_result"
    },
    {
     "data": {
      "image/png": "[encoded data removed]",
      "text/plain": [
       "<Figure size 432x288 with 1 Axes>"
      ]
     },
     "metadata": {
      "needs_background": "light"
     },
     "output_type": "display_data"
    }
   ],
   "source": [
    "# Evidently, the first is a maximum and the second is a minimum.\n",
    "# Let's plot it to check:\n",
    "\n",
    "plt.plot(x, data)\n",
    "plt.scatter(x[min_ddata], data[min_ddata], c='r')\n",
    "plt.title('Nice.')"
   ]
  },
  {
   "cell_type": "markdown",
   "metadata": {},
   "source": [
    "### Problem 2"
   ]
  },
  {
   "cell_type": "code",
   "execution_count": 104,
   "metadata": {},
   "outputs": [
    {
     "data": {
      "text/plain": [
       "<matplotlib.image.AxesImage at 0x129bacfd0>"
      ]
     },
     "execution_count": 104,
     "metadata": {},
     "output_type": "execute_result"
    },
    {
     "data": {
      "image/png": "[encoded data removed]",
      "text/plain": [
       "<Figure size 432x288 with 1 Axes>"
      ]
     },
     "metadata": {
      "needs_background": "light"
     },
     "output_type": "display_data"
    }
   ],
   "source": [
    "def falling_star(start_lambda,\n",
    "                 end_lambda,\n",
    "                 dlambda,\n",
    "                 start_rad,\n",
    "                 end_rad,\n",
    "                 dr):\n",
    "    \n",
    "    rads = np.arange(start_rad, end_rad, dr)\n",
    "    lams = np.arange(start_lambda, end_lambda, dlambda)\n",
    "    \n",
    "    # np.meshgrid returns two arrays, each sized to fully span the other one.\n",
    "    # It is an incredibly helpful function to go through all possible combinations\n",
    "    # of two or more arrays\n",
    "    L, R = np.meshgrid(lams, rads)\n",
    "    spectral_history = redshift(L, R)\n",
    "        \n",
    "    return(spectral_history)\n",
    "\n",
    "# do we get the same plot as before?\n",
    "plt.imshow(falling_star(start_lambda = 0.25, end_lambda = 3, dlambda = 0.01, start_rad = 2, end_rad = 10, dr = 0.01))"
   ]
  },
  {
   "cell_type": "markdown",
   "metadata": {},
   "source": [
    "### Problem 3"
   ]
  },
  {
   "cell_type": "code",
   "execution_count": 102,
   "metadata": {},
   "outputs": [
    {
     "data": {
      "text/plain": [
       "[<matplotlib.lines.Line2D at 0x129b3e690>]"
      ]
     },
     "execution_count": 102,
     "metadata": {},
     "output_type": "execute_result"
    },
    {
     "data": {
      "image/png": "[encoded data removed]",
      "text/plain": [
       "<Figure size 432x288 with 1 Axes>"
      ]
     },
     "metadata": {
      "needs_background": "light"
     },
     "output_type": "display_data"
    }
   ],
   "source": [
    "# make some data\n",
    "x = np.linspace(0, 8, int(1e9))\n",
    "data = np.exp(-(x-2)**2) - np.exp(-(x-6)**2)\n",
    "\n",
    "# plot it for a sanity check\n",
    "step = 10000\n",
    "plt.plot(x[::step], data[::step])"
   ]
  },
  {
   "cell_type": "code",
   "execution_count": 103,
   "metadata": {},
   "outputs": [
    {
     "name": "stdout",
     "output_type": "stream",
     "text": [
      "8.812858851570126e-16 0.44000431128693723 -0.44000431128694095\n"
     ]
    }
   ],
   "source": [
    "total_avg = np.mean(data)\n",
    "first_half_avg = np.mean(data[:int(len(data)/2)])\n",
    "second_half_avg = np.mean(data[int(len(data)/2):])\n",
    "print(total_avg, first_half_avg, second_half_avg)"
   ]
  },
  {
   "cell_type": "code",
   "execution_count": null,
   "metadata": {},
   "outputs": [],
   "source": []
  }
 ],
 "metadata": {
  "kernelspec": {
   "display_name": "Python [conda env:root] *",
   "language": "python",
   "name": "conda-root-py"
  },
  "language_info": {
   "codemirror_mode": {
    "name": "ipython",
    "version": 3
   },
   "file_extension": ".py",
   "mimetype": "text/x-python",
   "name": "python",
   "nbconvert_exporter": "python",
   "pygments_lexer": "ipython3",
   "version": "3.7.4"
  }
 },
 "nbformat": 4,
 "nbformat_minor": 2
}
